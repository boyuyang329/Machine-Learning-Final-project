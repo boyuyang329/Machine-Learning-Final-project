{
 "cells": [
  {
   "cell_type": "code",
   "execution_count": 82,
   "id": "fd736741",
   "metadata": {},
   "outputs": [],
   "source": [
    "import pandas as pd\n",
    "import numpy as np\n",
    "import matplotlib.pyplot as plt\n",
    "import seaborn as sns\n",
    "from sklearn.model_selection import train_test_split\n",
    "import math\n",
    "from statistics import mode\n",
    "import tensorflow as tf\n",
    "import random\n",
    "import os\n",
    "from sklearn.metrics import classification_report, accuracy_score\n",
    "from sklearn.tree import DecisionTreeClassifier\n",
    "from sklearn.ensemble import RandomForestClassifier\n",
    "from sklearn.model_selection import KFold, cross_val_score\n",
    "from sklearn.utils import shuffle\n",
    "from sklearn.linear_model import Perceptron\n",
    "from sklearn.decomposition import PCA\n",
    "from sklearn.neural_network import MLPClassifier"
   ]
  },
  {
   "cell_type": "code",
   "execution_count": 83,
   "id": "677eff53",
   "metadata": {},
   "outputs": [],
   "source": [
    "# Read the CSV file \n",
    "df = pd.read_csv('/Users/yangboyu/Downloads/wine+quality/winequality-red.csv', sep=';')\n",
    "\n",
    "df\n",
    "\n",
    "# Check the DataFrame\n",
    "\n",
    "# # Select all columns except the last one as features (X)\n",
    "X = df.iloc[:, :-1]\n",
    "\n",
    "# # Select the last column as the target variable (y)\n",
    "y = df.iloc[:, -1]\n",
    "\n",
    "# print(X)\n",
    "# print(y)\n"
   ]
  },
  {
   "cell_type": "code",
   "execution_count": 84,
   "id": "03e12620",
   "metadata": {},
   "outputs": [],
   "source": [
    "# split the data for training and testing  20% for testing and 80% for training \n",
    "X_train, X_test, y_train, y_test = train_test_split(X, y, test_size=0.2, random_state=42)\n"
   ]
  },
  {
   "cell_type": "code",
   "execution_count": 85,
   "id": "b3544482",
   "metadata": {},
   "outputs": [],
   "source": [
    "def train_perceptron_model(X_train, y_train, X_test, y_test):\n",
    "   \n",
    "    perceptron = Perceptron()\n",
    "\n",
    "    # Train the model sequentially\n",
    "    perceptron.fit(X_train, y_train)\n",
    "\n",
    "    # Predict the target variable for the test set\n",
    "    y_pred = perceptron.predict(X_test)\n",
    "\n",
    "    # Calculate the accuracy of the model\n",
    "    accuracy = accuracy_score(y_test, y_pred)\n",
    "    \n",
    "    return accuracy"
   ]
  },
  {
   "cell_type": "code",
   "execution_count": 86,
   "id": "b2130d9d",
   "metadata": {},
   "outputs": [],
   "source": [
    "#standardized the data (不确定要不要，可以到时候再加上去)\n"
   ]
  },
  {
   "cell_type": "code",
   "execution_count": 92,
   "id": "db6cc967",
   "metadata": {},
   "outputs": [],
   "source": [
    "#ANN \n",
    "# Initialize the MLP classifier with custom activation function for hidden layers\n",
    "# batch_size ='auto' 就是 sequential training \n",
    "\n",
    "def train_ann_model(X_train, y_train, X_test, y_test):\n",
    "\n",
    "    # Initialize the MLP classifier with specified hyperparameters\n",
    "    mlp = MLPClassifier(\n",
    "        hidden_layer_sizes=(100,),  # Number of neurons in the hidden layer\n",
    "        activation='logistic',  # Activation function for the hidden layer\n",
    "        max_iter=1000,  # Maximum number of iterations (epochs)\n",
    "        batch_size='auto',  # Batch size for training\n",
    "        random_state=42  # Random state for reproducibility\n",
    "    )\n",
    "\n",
    "    # Train the model\n",
    "    mlp.fit(X_train, y_train)\n",
    "\n",
    "    # Predict the target variable for the test set\n",
    "    y_pred_mlp = mlp.predict(X_test)\n",
    "\n",
    "    # Calculate the accuracy of the model\n",
    "    accuracy_mlp = accuracy_score(y_test, y_pred_mlp)\n",
    "    \n",
    "    return accuracy_mlp"
   ]
  },
  {
   "cell_type": "code",
   "execution_count": 93,
   "id": "aeae4d28",
   "metadata": {},
   "outputs": [],
   "source": [
    "#Decision tree \n",
    "def train_decision_tree(X_train, y_train, X_test, y_test):\n",
    "    \n",
    "    decision_tree = DecisionTreeClassifier(\n",
    "        criterion='entropy',  # Split criterion: 'entropy' for information gain\n",
    "        max_depth=100,  # Maximum depth of the tree\n",
    "        min_samples_split=2,  # Minimum number of samples required to split an internal node\n",
    "        min_samples_leaf=1,  # Minimum number of samples required to be at a leaf node\n",
    "        max_features=100,  # Number of features to consider when looking for the best split\n",
    "        random_state=42  # Random state for reproducibility\n",
    "    )    \n",
    "\n",
    "    # Initialize the Decision Tree classifier\n",
    "    decision_tree = DecisionTreeClassifier(random_state=42)\n",
    "\n",
    "    # Train the model\n",
    "    decision_tree.fit(X_train, y_train)\n",
    "\n",
    "    # Predict the target variable for the test set\n",
    "    y_pred = decision_tree.predict(X_test)\n",
    "\n",
    "    # Calculate the accuracy of the model\n",
    "    accuracy = accuracy_score(y_test, y_pred)\n",
    "    \n",
    "    return accuracy\n"
   ]
  },
  {
   "cell_type": "code",
   "execution_count": 99,
   "id": "33530bec",
   "metadata": {},
   "outputs": [],
   "source": [
    "# Random forest \n",
    "def train_random_forest(X_train, y_train, X_test, y_test):\n",
    "\n",
    "    # Initialize the Random Forest classifier with specified hyperparameters\n",
    "    random_forest = RandomForestClassifier(\n",
    "        n_estimators=100,  # Number of trees in the forest\n",
    "        criterion='entropy',  # Split criterion: 'gini' for Gini impurity or 'entropy' for information gain\n",
    "        max_depth=None,  # Maximum depth of the trees\n",
    "        min_samples_split=2,  # Minimum number of samples required to split an internal node\n",
    "        min_samples_leaf=1,  # Minimum number of samples required to be at a leaf node\n",
    "        max_features=None,  # Number of features to consider when looking for the best split\n",
    "        random_state=42,  # Random state for reproducibility     \n",
    "    )\n",
    "\n",
    "    # Train the model\n",
    "    random_forest.fit(X_train, y_train)\n",
    "\n",
    "    # Predict the target variable for the test set\n",
    "    y_pred = random_forest.predict(X_test)\n",
    "\n",
    "    # Calculate the accuracy of the model\n",
    "    accuracy = accuracy_score(y_test, y_pred)\n",
    "    \n",
    "    return accuracy"
   ]
  },
  {
   "cell_type": "code",
   "execution_count": 100,
   "id": "197e0371",
   "metadata": {},
   "outputs": [
    {
     "name": "stdout",
     "output_type": "stream",
     "text": [
      "Perceptron Accuracy: 0.434375\n",
      "ANN Accuracy: 0.5625\n",
      "Decision Tree Accuracy: 0.559375\n",
      "Random Forest Accuracy: 0.640625\n"
     ]
    }
   ],
   "source": [
    "#Call the function\n",
    "accuracy = train_perceptron_model(X_train, y_train, X_test, y_test)\n",
    "print(\"Perceptron Accuracy:\", accuracy)\n",
    "\n",
    "accuracy2=train_ann_model(X_train, y_train, X_test, y_test)\n",
    "print(\"ANN Accuracy:\", accuracy2)\n",
    "\n",
    "accuracy3 = train_decision_tree(X_train, y_train, X_test, y_test)\n",
    "print(\"Decision Tree Accuracy:\", accuracy3)\n",
    "\n",
    "accuracy4 = train_random_forest(X_train, y_train, X_test, y_test)\n",
    "print(\"Random Forest Accuracy:\", accuracy4)"
   ]
  },
  {
   "cell_type": "code",
   "execution_count": null,
   "id": "9b2c4104",
   "metadata": {},
   "outputs": [],
   "source": []
  }
 ],
 "metadata": {
  "kernelspec": {
   "display_name": "Python 3 (ipykernel)",
   "language": "python",
   "name": "python3"
  },
  "language_info": {
   "codemirror_mode": {
    "name": "ipython",
    "version": 3
   },
   "file_extension": ".py",
   "mimetype": "text/x-python",
   "name": "python",
   "nbconvert_exporter": "python",
   "pygments_lexer": "ipython3",
   "version": "3.11.5"
  }
 },
 "nbformat": 4,
 "nbformat_minor": 5
}
